{
 "cells": [
  {
   "cell_type": "markdown",
   "metadata": {
    "papermill": {
     "duration": 0.009049,
     "end_time": "2022-11-05T11:21:42.099039",
     "exception": false,
     "start_time": "2022-11-05T11:21:42.089990",
     "status": "completed"
    },
    "tags": []
   },
   "source": [
    "# About this notebook\n",
    "- Deberta-v3-base starter code\n",
    "- pip wheels is [here](https://www.kaggle.com/code/yasufuminakama/fb3-pip-wheels)\n",
    "- Inference notebook is [here](https://www.kaggle.com/yasufuminakama/fb3-deberta-v3-base-baseline-inference)\n",
    "\n",
    "If this notebook is helpful, feel free to upvote :)"
   ]
  },
  {
   "cell_type": "markdown",
   "metadata": {
    "papermill": {
     "duration": 0.005268,
     "end_time": "2022-11-05T11:21:42.110438",
     "exception": false,
     "start_time": "2022-11-05T11:21:42.105170",
     "status": "completed"
    },
    "tags": []
   },
   "source": [
    "# Directory settings"
   ]
  },
  {
   "cell_type": "code",
   "execution_count": null,
   "metadata": {
    "execution": {
     "iopub.execute_input": "2022-11-05T11:21:42.122699Z",
     "iopub.status.busy": "2022-11-05T11:21:42.122273Z",
     "iopub.status.idle": "2022-11-05T11:21:42.132868Z",
     "shell.execute_reply": "2022-11-05T11:21:42.132058Z"
    },
    "papermill": {
     "duration": 0.019098,
     "end_time": "2022-11-05T11:21:42.134859",
     "exception": false,
     "start_time": "2022-11-05T11:21:42.115761",
     "status": "completed"
    },
    "tags": []
   },
   "outputs": [],
   "source": [
    "# ====================================================\n",
    "# Directory settings\n",
    "# ====================================================\n",
    "import os\n",
    "\n",
    "OUTPUT_DIR = './'\n",
    "if not os.path.exists(OUTPUT_DIR):\n",
    "    os.makedirs(OUTPUT_DIR)"
   ]
  },
  {
   "cell_type": "markdown",
   "metadata": {
    "papermill": {
     "duration": 0.005107,
     "end_time": "2022-11-05T11:21:42.145329",
     "exception": false,
     "start_time": "2022-11-05T11:21:42.140222",
     "status": "completed"
    },
    "tags": []
   },
   "source": [
    "# CFG"
   ]
  },
  {
   "cell_type": "code",
   "execution_count": null,
   "metadata": {
    "execution": {
     "iopub.execute_input": "2022-11-05T11:21:42.157714Z",
     "iopub.status.busy": "2022-11-05T11:21:42.156888Z",
     "iopub.status.idle": "2022-11-05T11:21:42.164658Z",
     "shell.execute_reply": "2022-11-05T11:21:42.163726Z"
    },
    "papermill": {
     "duration": 0.015885,
     "end_time": "2022-11-05T11:21:42.166506",
     "exception": false,
     "start_time": "2022-11-05T11:21:42.150621",
     "status": "completed"
    },
    "tags": []
   },
   "outputs": [],
   "source": [
    "# ====================================================\n",
    "# CFG\n",
    "# ====================================================\n",
    "class CFG:\n",
    "    debug = False\n",
    "    apex = True\n",
    "    print_freq = 20\n",
    "    num_workers = 4\n",
    "    model = \"microsoft/deberta-v3-base\"\n",
    "    gradient_checkpointing = True\n",
    "    scheduler = 'cosine'\n",
    "    batch_scheduler = True\n",
    "    num_cycles = 0.5\n",
    "    num_warmup_steps = 0\n",
    "    epochs = 4\n",
    "    encoder_lr = 2e-5\n",
    "    decoder_lr = 2e-5\n",
    "    grouped_decay = 1.6\n",
    "    min_lr = 5e-7\n",
    "    eps = 1e-6\n",
    "    betas = (0.9, 0.999)\n",
    "    batch_size = 8\n",
    "    max_len = 512\n",
    "    weight_decay = 0.01\n",
    "    gradient_accumulation_steps = 1\n",
    "    max_grad_norm = 1000\n",
    "    target_cols = [\n",
    "        'cohesion', 'syntax', 'vocabulary', 'phraseology', 'grammar',\n",
    "        'conventions'\n",
    "    ]\n",
    "    seed = 42\n",
    "    n_fold = 10\n",
    "    trn_fold = [0, 1, 2, 3, 4, 5, 6, 7, 8, 9]\n",
    "    train = True\n",
    "\n",
    "\n",
    "if CFG.debug:\n",
    "    CFG.epochs = 2\n",
    "    CFG.trn_fold = [0]"
   ]
  },
  {
   "cell_type": "markdown",
   "metadata": {
    "papermill": {
     "duration": 0.005191,
     "end_time": "2022-11-05T11:21:42.197764",
     "exception": false,
     "start_time": "2022-11-05T11:21:42.192573",
     "status": "completed"
    },
    "tags": []
   },
   "source": [
    "# Library"
   ]
  },
  {
   "cell_type": "code",
   "execution_count": null,
   "metadata": {
    "execution": {
     "iopub.execute_input": "2022-11-05T11:21:42.211257Z",
     "iopub.status.busy": "2022-11-05T11:21:42.210522Z",
     "iopub.status.idle": "2022-11-05T11:22:22.139041Z",
     "shell.execute_reply": "2022-11-05T11:22:22.137433Z"
    },
    "papermill": {
     "duration": 39.938515,
     "end_time": "2022-11-05T11:22:22.141751",
     "exception": false,
     "start_time": "2022-11-05T11:21:42.203236",
     "status": "completed"
    },
    "tags": []
   },
   "outputs": [],
   "source": [
    "# ====================================================\n",
    "# Library\n",
    "# ====================================================\n",
    "import os\n",
    "import gc\n",
    "import re\n",
    "import ast\n",
    "import sys\n",
    "import copy\n",
    "import json\n",
    "import time\n",
    "import math\n",
    "import string\n",
    "import pickle\n",
    "import random\n",
    "import joblib\n",
    "import itertools\n",
    "import warnings\n",
    "\n",
    "warnings.filterwarnings(\"ignore\")\n",
    "\n",
    "import scipy as sp\n",
    "import numpy as np\n",
    "import pandas as pd\n",
    "\n",
    "pd.set_option('display.max_rows', 500)\n",
    "pd.set_option('display.max_columns', 500)\n",
    "pd.set_option('display.width', 1000)\n",
    "from tqdm.auto import tqdm\n",
    "from sklearn.metrics import mean_squared_error\n",
    "from sklearn.model_selection import StratifiedKFold, GroupKFold, KFold\n",
    "\n",
    "os.system('pip install iterative-stratification==0.1.7')\n",
    "from iterstrat.ml_stratifiers import MultilabelStratifiedKFold\n",
    "\n",
    "import torch\n",
    "import torch.nn as nn\n",
    "from torch.nn import Parameter\n",
    "import torch.nn.functional as F\n",
    "from torch.optim import Adam, SGD, AdamW\n",
    "from torch.utils.data import DataLoader, Dataset\n",
    "\n",
    "os.system('pip uninstall -y transformers')\n",
    "os.system('pip uninstall -y tokenizers')\n",
    "os.system(\n",
    "    'python -m pip install --no-index --find-links=../input/fb3-pip-wheels transformers'\n",
    ")\n",
    "os.system(\n",
    "    'python -m pip install --no-index --find-links=../input/fb3-pip-wheels tokenizers'\n",
    ")\n",
    "import tokenizers\n",
    "import transformers\n",
    "\n",
    "print(f\"tokenizers.__version__: {tokenizers.__version__}\")\n",
    "print(f\"transformers.__version__: {transformers.__version__}\")\n",
    "from transformers import AutoTokenizer, AutoModel, AutoConfig\n",
    "from transformers import get_linear_schedule_with_warmup, get_cosine_schedule_with_warmup\n",
    "%env TOKENIZERS_PARALLELISM=true\n",
    "\n",
    "device = torch.device('cuda' if torch.cuda.is_available() else 'cpu')"
   ]
  },
  {
   "cell_type": "markdown",
   "metadata": {
    "papermill": {
     "duration": 0.006292,
     "end_time": "2022-11-05T11:22:22.155083",
     "exception": false,
     "start_time": "2022-11-05T11:22:22.148791",
     "status": "completed"
    },
    "tags": []
   },
   "source": [
    "# Utils"
   ]
  },
  {
   "cell_type": "code",
   "execution_count": null,
   "metadata": {
    "execution": {
     "iopub.execute_input": "2022-11-05T11:22:22.170540Z",
     "iopub.status.busy": "2022-11-05T11:22:22.169081Z",
     "iopub.status.idle": "2022-11-05T11:22:22.182674Z",
     "shell.execute_reply": "2022-11-05T11:22:22.181812Z"
    },
    "papermill": {
     "duration": 0.023181,
     "end_time": "2022-11-05T11:22:22.184818",
     "exception": false,
     "start_time": "2022-11-05T11:22:22.161637",
     "status": "completed"
    },
    "tags": []
   },
   "outputs": [],
   "source": [
    "# ====================================================\n",
    "# Utils\n",
    "# ====================================================\n",
    "def MCRMSE(y_trues, y_preds):\n",
    "    scores = []\n",
    "    idxes = y_trues.shape[1]\n",
    "    for i in range(idxes):\n",
    "        y_true = y_trues[:, i]\n",
    "        y_pred = y_preds[:, i]\n",
    "        score = mean_squared_error(y_true, y_pred, squared=False)  # RMSE\n",
    "        scores.append(score)\n",
    "    mcrmse_score = np.mean(scores)\n",
    "    return mcrmse_score, scores\n",
    "\n",
    "\n",
    "def get_score(y_trues, y_preds):\n",
    "    mcrmse_score, scores = MCRMSE(y_trues, y_preds)\n",
    "    return mcrmse_score, scores\n",
    "\n",
    "\n",
    "def get_logger(filename=OUTPUT_DIR + 'train'):\n",
    "    from logging import getLogger, INFO, StreamHandler, FileHandler, Formatter\n",
    "    logger = getLogger(__name__)\n",
    "    logger.setLevel(INFO)\n",
    "    handler1 = StreamHandler()\n",
    "    handler1.setFormatter(Formatter(\"%(message)s\"))\n",
    "    handler2 = FileHandler(filename=f\"{filename}.log\")\n",
    "    handler2.setFormatter(Formatter(\"%(message)s\"))\n",
    "    logger.addHandler(handler1)\n",
    "    logger.addHandler(handler2)\n",
    "    return logger\n",
    "\n",
    "\n",
    "LOGGER = get_logger()\n",
    "\n",
    "\n",
    "def seed_everything(seed=42):\n",
    "    random.seed(seed)\n",
    "    os.environ['PYTHONHASHSEED'] = str(seed)\n",
    "    np.random.seed(seed)\n",
    "    torch.manual_seed(seed)\n",
    "    torch.cuda.manual_seed(seed)\n",
    "    torch.backends.cudnn.deterministic = True\n",
    "\n",
    "\n",
    "seed_everything(seed=42)"
   ]
  },
  {
   "cell_type": "markdown",
   "metadata": {
    "papermill": {
     "duration": 0.006251,
     "end_time": "2022-11-05T11:22:22.197394",
     "exception": false,
     "start_time": "2022-11-05T11:22:22.191143",
     "status": "completed"
    },
    "tags": []
   },
   "source": [
    "# Data Loading"
   ]
  },
  {
   "cell_type": "code",
   "execution_count": null,
   "metadata": {
    "execution": {
     "iopub.execute_input": "2022-11-05T11:22:22.211425Z",
     "iopub.status.busy": "2022-11-05T11:22:22.211160Z",
     "iopub.status.idle": "2022-11-05T11:22:22.457427Z",
     "shell.execute_reply": "2022-11-05T11:22:22.456363Z"
    },
    "papermill": {
     "duration": 0.255794,
     "end_time": "2022-11-05T11:22:22.459493",
     "exception": false,
     "start_time": "2022-11-05T11:22:22.203699",
     "status": "completed"
    },
    "tags": []
   },
   "outputs": [],
   "source": [
    "# ====================================================\n",
    "# Data Loading\n",
    "# ====================================================\n",
    "train = pd.read_csv(\n",
    "    '../input/feedback-prize-english-language-learning/train.csv')\n",
    "test = pd.read_csv(\n",
    "    '../input/feedback-prize-english-language-learning/test.csv')\n",
    "submission = pd.read_csv(\n",
    "    '../input/feedback-prize-english-language-learning/sample_submission.csv')\n",
    "\n",
    "print(f\"train.shape: {train.shape}\")\n",
    "display(train.head())\n",
    "print(f\"test.shape: {test.shape}\")\n",
    "display(test.head())\n",
    "print(f\"submission.shape: {submission.shape}\")\n",
    "display(submission.head())"
   ]
  },
  {
   "cell_type": "markdown",
   "metadata": {
    "papermill": {
     "duration": 0.006834,
     "end_time": "2022-11-05T11:22:22.473642",
     "exception": false,
     "start_time": "2022-11-05T11:22:22.466808",
     "status": "completed"
    },
    "tags": []
   },
   "source": [
    "# CV split"
   ]
  },
  {
   "cell_type": "code",
   "execution_count": null,
   "metadata": {
    "execution": {
     "iopub.execute_input": "2022-11-05T11:22:22.488926Z",
     "iopub.status.busy": "2022-11-05T11:22:22.488641Z",
     "iopub.status.idle": "2022-11-05T11:22:22.623505Z",
     "shell.execute_reply": "2022-11-05T11:22:22.622503Z"
    },
    "papermill": {
     "duration": 0.144774,
     "end_time": "2022-11-05T11:22:22.625513",
     "exception": false,
     "start_time": "2022-11-05T11:22:22.480739",
     "status": "completed"
    },
    "tags": []
   },
   "outputs": [],
   "source": [
    "# ====================================================\n",
    "# CV split\n",
    "# ====================================================\n",
    "Fold = MultilabelStratifiedKFold(n_splits=CFG.n_fold,\n",
    "                                 shuffle=True,\n",
    "                                 random_state=CFG.seed)\n",
    "for n, (train_index,\n",
    "        val_index) in enumerate(Fold.split(train, train[CFG.target_cols])):\n",
    "    train.loc[val_index, 'fold'] = int(n)\n",
    "train['fold'] = train['fold'].astype(int)\n",
    "display(train.groupby('fold').size())"
   ]
  },
  {
   "cell_type": "code",
   "execution_count": null,
   "metadata": {
    "execution": {
     "iopub.execute_input": "2022-11-05T11:22:22.641037Z",
     "iopub.status.busy": "2022-11-05T11:22:22.640740Z",
     "iopub.status.idle": "2022-11-05T11:22:22.645517Z",
     "shell.execute_reply": "2022-11-05T11:22:22.644506Z"
    },
    "papermill": {
     "duration": 0.015169,
     "end_time": "2022-11-05T11:22:22.647841",
     "exception": false,
     "start_time": "2022-11-05T11:22:22.632672",
     "status": "completed"
    },
    "tags": []
   },
   "outputs": [],
   "source": [
    "if CFG.debug:\n",
    "    display(train.groupby('fold').size())\n",
    "    train = train.sample(n=1000, random_state=0).reset_index(drop=True)\n",
    "    display(train.groupby('fold').size())"
   ]
  },
  {
   "cell_type": "markdown",
   "metadata": {
    "papermill": {
     "duration": 0.006887,
     "end_time": "2022-11-05T11:22:22.661872",
     "exception": false,
     "start_time": "2022-11-05T11:22:22.654985",
     "status": "completed"
    },
    "tags": []
   },
   "source": [
    "# tokenizer"
   ]
  },
  {
   "cell_type": "code",
   "execution_count": null,
   "metadata": {
    "execution": {
     "iopub.execute_input": "2022-11-05T11:22:22.678451Z",
     "iopub.status.busy": "2022-11-05T11:22:22.677001Z",
     "iopub.status.idle": "2022-11-05T11:22:29.312033Z",
     "shell.execute_reply": "2022-11-05T11:22:29.311054Z"
    },
    "papermill": {
     "duration": 6.645497,
     "end_time": "2022-11-05T11:22:29.314565",
     "exception": false,
     "start_time": "2022-11-05T11:22:22.669068",
     "status": "completed"
    },
    "tags": []
   },
   "outputs": [],
   "source": [
    "# ====================================================\n",
    "# tokenizer\n",
    "# ====================================================\n",
    "tokenizer = AutoTokenizer.from_pretrained(CFG.model)\n",
    "tokenizer.save_pretrained(OUTPUT_DIR + 'tokenizer/')\n",
    "CFG.tokenizer = tokenizer"
   ]
  },
  {
   "cell_type": "markdown",
   "metadata": {
    "papermill": {
     "duration": 0.007393,
     "end_time": "2022-11-05T11:22:29.329845",
     "exception": false,
     "start_time": "2022-11-05T11:22:29.322452",
     "status": "completed"
    },
    "tags": []
   },
   "source": [
    "# Dataset"
   ]
  },
  {
   "cell_type": "code",
   "execution_count": null,
   "metadata": {
    "execution": {
     "iopub.execute_input": "2022-11-05T11:22:29.347077Z",
     "iopub.status.busy": "2022-11-05T11:22:29.345595Z",
     "iopub.status.idle": "2022-11-05T11:22:34.882790Z",
     "shell.execute_reply": "2022-11-05T11:22:34.881831Z"
    },
    "papermill": {
     "duration": 5.548361,
     "end_time": "2022-11-05T11:22:34.885616",
     "exception": false,
     "start_time": "2022-11-05T11:22:29.337255",
     "status": "completed"
    },
    "tags": []
   },
   "outputs": [],
   "source": [
    "# ====================================================\n",
    "# Define max_len\n",
    "# ====================================================\n",
    "lengths = []\n",
    "tk0 = tqdm(train['full_text'].fillna(\"\").values, total=len(train))\n",
    "for text in tk0:\n",
    "    length = len(tokenizer(text, add_special_tokens=False)['input_ids'])\n",
    "    lengths.append(length)\n",
    "CFG.max_len = max(lengths) + 3  # cls & sep & sep\n",
    "LOGGER.info(f\"max_len: {CFG.max_len}\")"
   ]
  },
  {
   "cell_type": "code",
   "execution_count": null,
   "metadata": {
    "execution": {
     "iopub.execute_input": "2022-11-05T11:22:34.904264Z",
     "iopub.status.busy": "2022-11-05T11:22:34.903421Z",
     "iopub.status.idle": "2022-11-05T11:22:34.912625Z",
     "shell.execute_reply": "2022-11-05T11:22:34.911712Z"
    },
    "papermill": {
     "duration": 0.020032,
     "end_time": "2022-11-05T11:22:34.914595",
     "exception": false,
     "start_time": "2022-11-05T11:22:34.894563",
     "status": "completed"
    },
    "tags": []
   },
   "outputs": [],
   "source": [
    "# ====================================================\n",
    "# Dataset\n",
    "# ====================================================\n",
    "def prepare_input(cfg, text):\n",
    "    inputs = cfg.tokenizer.encode_plus(text,\n",
    "                                       return_tensors=None,\n",
    "                                       add_special_tokens=True,\n",
    "                                       max_length=CFG.max_len,\n",
    "                                       pad_to_max_length=True,\n",
    "                                       truncation=True)\n",
    "    for k, v in inputs.items():\n",
    "        inputs[k] = torch.tensor(v, dtype=torch.long)\n",
    "    return inputs\n",
    "\n",
    "\n",
    "class TrainDataset(Dataset):\n",
    "    def __init__(self, cfg, df):\n",
    "        self.cfg = cfg\n",
    "        self.texts = df['full_text'].values\n",
    "        self.labels = df[cfg.target_cols].values\n",
    "\n",
    "    def __len__(self):\n",
    "        return len(self.texts)\n",
    "\n",
    "    def __getitem__(self, item):\n",
    "        inputs = prepare_input(self.cfg, self.texts[item])\n",
    "        label = torch.tensor(self.labels[item], dtype=torch.float)\n",
    "        return inputs, label\n",
    "\n",
    "\n",
    "def collate(inputs):\n",
    "    mask_len = int(inputs[\"attention_mask\"].sum(axis=1).max())\n",
    "    for k, v in inputs.items():\n",
    "        inputs[k] = inputs[k][:, :mask_len]\n",
    "    return inputs"
   ]
  },
  {
   "cell_type": "markdown",
   "metadata": {
    "papermill": {
     "duration": 0.007624,
     "end_time": "2022-11-05T11:22:34.929859",
     "exception": false,
     "start_time": "2022-11-05T11:22:34.922235",
     "status": "completed"
    },
    "tags": []
   },
   "source": [
    "# Model"
   ]
  },
  {
   "cell_type": "code",
   "execution_count": null,
   "metadata": {
    "execution": {
     "iopub.execute_input": "2022-11-05T11:22:34.946436Z",
     "iopub.status.busy": "2022-11-05T11:22:34.946157Z",
     "iopub.status.idle": "2022-11-05T11:22:34.959626Z",
     "shell.execute_reply": "2022-11-05T11:22:34.958710Z"
    },
    "papermill": {
     "duration": 0.024211,
     "end_time": "2022-11-05T11:22:34.961664",
     "exception": false,
     "start_time": "2022-11-05T11:22:34.937453",
     "status": "completed"
    },
    "tags": []
   },
   "outputs": [],
   "source": [
    "# ====================================================\n",
    "# Model\n",
    "# ====================================================\n",
    "class CustomModel(nn.Module):\n",
    "    def __init__(self, cfg, config_path=None, pretrained=False):\n",
    "        super().__init__()\n",
    "        self.cfg = cfg\n",
    "        if config_path is None:\n",
    "            self.config = AutoConfig.from_pretrained(cfg.model,\n",
    "                                                     output_hidden_states=True)\n",
    "            self.config.hidden_dropout = 0.\n",
    "            self.config.hidden_dropout_prob = 0.\n",
    "            self.config.attention_dropout = 0.\n",
    "            self.config.attention_probs_dropout_prob = 0.\n",
    "            LOGGER.info(self.config)\n",
    "        else:\n",
    "            self.config = torch.load(config_path)\n",
    "        if pretrained:\n",
    "            self.model = AutoModel.from_pretrained(cfg.model,\n",
    "                                                   config=self.config)\n",
    "        else:\n",
    "            self.model = AutoModel(self.config)\n",
    "        if self.cfg.gradient_checkpointing:\n",
    "            self.model.gradient_checkpointing_enable()\n",
    "        self.attention = nn.Sequential(\n",
    "            nn.Linear(self.config.hidden_size, self.config.hidden_size // 2),\n",
    "            nn.Tanh(), nn.Linear(self.config.hidden_size // 2, 1),\n",
    "            nn.Softmax(dim=1))\n",
    "        self.fc = nn.Linear(self.config.hidden_size, 6)\n",
    "        self._init_weights(self.fc)\n",
    "\n",
    "    def _init_weights(self, module):\n",
    "        if isinstance(module, nn.Linear):\n",
    "            module.weight.data.normal_(mean=0.0,\n",
    "                                       std=self.config.initializer_range)\n",
    "            if module.bias is not None:\n",
    "                module.bias.data.zero_()\n",
    "        elif isinstance(module, nn.Embedding):\n",
    "            module.weight.data.normal_(mean=0.0,\n",
    "                                       std=self.config.initializer_range)\n",
    "            if module.padding_idx is not None:\n",
    "                module.weight.data[module.padding_idx].zero_()\n",
    "        elif isinstance(module, nn.LayerNorm):\n",
    "            module.bias.data.zero_()\n",
    "            module.weight.data.fill_(1.0)\n",
    "\n",
    "    def feature(self, inputs):\n",
    "        outputs = self.model(**inputs)\n",
    "        last_hidden_states = outputs[0]\n",
    "        weights = self.attention(last_hidden_states)\n",
    "        y = torch.sum(weights * last_hidden_states, dim=1)\n",
    "        return y\n",
    "\n",
    "    def forward(self, inputs):\n",
    "        feature = self.feature(inputs)\n",
    "        output = self.fc(feature)\n",
    "        return output"
   ]
  },
  {
   "cell_type": "markdown",
   "metadata": {
    "papermill": {
     "duration": 0.007441,
     "end_time": "2022-11-05T11:22:34.976758",
     "exception": false,
     "start_time": "2022-11-05T11:22:34.969317",
     "status": "completed"
    },
    "tags": []
   },
   "source": [
    "# Loss"
   ]
  },
  {
   "cell_type": "code",
   "execution_count": null,
   "metadata": {
    "execution": {
     "iopub.execute_input": "2022-11-05T11:22:34.993603Z",
     "iopub.status.busy": "2022-11-05T11:22:34.993335Z",
     "iopub.status.idle": "2022-11-05T11:22:34.999582Z",
     "shell.execute_reply": "2022-11-05T11:22:34.998615Z"
    },
    "papermill": {
     "duration": 0.016882,
     "end_time": "2022-11-05T11:22:35.001431",
     "exception": false,
     "start_time": "2022-11-05T11:22:34.984549",
     "status": "completed"
    },
    "tags": []
   },
   "outputs": [],
   "source": [
    "# ====================================================\n",
    "# Loss\n",
    "# ====================================================\n",
    "class RMSELoss(nn.Module):\n",
    "    def __init__(self, reduction='mean', eps=1e-9):\n",
    "        super().__init__()\n",
    "        self.mse = nn.MSELoss(reduction='none')\n",
    "        self.reduction = reduction\n",
    "        self.eps = eps\n",
    "\n",
    "    def forward(self, y_pred, y_true):\n",
    "        loss = torch.sqrt(self.mse(y_pred, y_true) + self.eps)\n",
    "        if self.reduction == 'none':\n",
    "            loss = loss\n",
    "        elif self.reduction == 'sum':\n",
    "            loss = loss.sum()\n",
    "        elif self.reduction == 'mean':\n",
    "            loss = loss.mean()\n",
    "        return loss"
   ]
  },
  {
   "cell_type": "markdown",
   "metadata": {
    "papermill": {
     "duration": 0.007423,
     "end_time": "2022-11-05T11:22:35.016499",
     "exception": false,
     "start_time": "2022-11-05T11:22:35.009076",
     "status": "completed"
    },
    "tags": []
   },
   "source": [
    "# Helpler functions"
   ]
  },
  {
   "cell_type": "code",
   "execution_count": null,
   "metadata": {
    "execution": {
     "iopub.execute_input": "2022-11-05T11:22:35.033330Z",
     "iopub.status.busy": "2022-11-05T11:22:35.032888Z",
     "iopub.status.idle": "2022-11-05T11:22:35.050867Z",
     "shell.execute_reply": "2022-11-05T11:22:35.049975Z"
    },
    "papermill": {
     "duration": 0.028551,
     "end_time": "2022-11-05T11:22:35.052804",
     "exception": false,
     "start_time": "2022-11-05T11:22:35.024253",
     "status": "completed"
    },
    "tags": []
   },
   "outputs": [],
   "source": [
    "# ====================================================\n",
    "# Helper functions\n",
    "# ====================================================\n",
    "class AverageMeter(object):\n",
    "    \"\"\"Computes and stores the average and current value\"\"\"\n",
    "    def __init__(self):\n",
    "        self.reset()\n",
    "\n",
    "    def reset(self):\n",
    "        self.val = 0\n",
    "        self.avg = 0\n",
    "        self.sum = 0\n",
    "        self.count = 0\n",
    "\n",
    "    def update(self, val, n=1):\n",
    "        self.val = val\n",
    "        self.sum += val * n\n",
    "        self.count += n\n",
    "        self.avg = self.sum / self.count\n",
    "\n",
    "\n",
    "def asMinutes(s):\n",
    "    m = math.floor(s / 60)\n",
    "    s -= m * 60\n",
    "    return '%dm %ds' % (m, s)\n",
    "\n",
    "\n",
    "def timeSince(since, percent):\n",
    "    now = time.time()\n",
    "    s = now - since\n",
    "    es = s / (percent)\n",
    "    rs = es - s\n",
    "    return '%s (remain %s)' % (asMinutes(s), asMinutes(rs))\n",
    "\n",
    "\n",
    "def train_fn(fold, train_loader, model, criterion, optimizer, epoch, scheduler,\n",
    "             device):\n",
    "    model.train()\n",
    "    scaler = torch.cuda.amp.GradScaler(enabled=CFG.apex)\n",
    "    losses = AverageMeter()\n",
    "    start = end = time.time()\n",
    "    global_step = 0\n",
    "    for step, (inputs, labels) in enumerate(train_loader):\n",
    "        inputs = collate(inputs)\n",
    "        for k, v in inputs.items():\n",
    "            inputs[k] = v.to(device)\n",
    "        labels = labels.to(device)\n",
    "        batch_size = labels.size(0)\n",
    "        with torch.cuda.amp.autocast(enabled=CFG.apex):\n",
    "            y_preds = model(inputs)\n",
    "            loss = criterion(y_preds, labels)\n",
    "        if CFG.gradient_accumulation_steps > 1:\n",
    "            loss = loss / CFG.gradient_accumulation_steps\n",
    "        losses.update(loss.item(), batch_size)\n",
    "        scaler.scale(loss).backward()\n",
    "        grad_norm = torch.nn.utils.clip_grad_norm_(model.parameters(),\n",
    "                                                   CFG.max_grad_norm)\n",
    "        if (step + 1) % CFG.gradient_accumulation_steps == 0:\n",
    "            scaler.step(optimizer)\n",
    "            scaler.update()\n",
    "            optimizer.zero_grad()\n",
    "            global_step += 1\n",
    "            if CFG.batch_scheduler:\n",
    "                scheduler.step()\n",
    "        end = time.time()\n",
    "        if step % CFG.print_freq == 0 or step == (len(train_loader) - 1):\n",
    "            print('Epoch: [{0}][{1}/{2}] '\n",
    "                  'Elapsed {remain:s} '\n",
    "                  'Loss: {loss.val:.4f}({loss.avg:.4f}) '\n",
    "                  'Grad: {grad_norm:.4f}  '\n",
    "                  'LR: {lr:.8f}  '.format(\n",
    "                      epoch + 1,\n",
    "                      step,\n",
    "                      len(train_loader),\n",
    "                      remain=timeSince(start,\n",
    "                                       float(step + 1) / len(train_loader)),\n",
    "                      loss=losses,\n",
    "                      grad_norm=grad_norm,\n",
    "                      lr=scheduler.get_lr()[0]))\n",
    "        if CFG.wandb:\n",
    "            wandb.log({\n",
    "                f\"[fold{fold}] loss\": losses.val,\n",
    "                f\"[fold{fold}] lr\": scheduler.get_lr()[0]\n",
    "            })\n",
    "    return losses.avg\n",
    "\n",
    "\n",
    "def valid_fn(valid_loader, model, criterion, device):\n",
    "    losses = AverageMeter()\n",
    "    model.eval()\n",
    "    preds = []\n",
    "    start = end = time.time()\n",
    "    for step, (inputs, labels) in enumerate(valid_loader):\n",
    "        inputs = collate(inputs)\n",
    "        for k, v in inputs.items():\n",
    "            inputs[k] = v.to(device)\n",
    "        labels = labels.to(device)\n",
    "        batch_size = labels.size(0)\n",
    "        with torch.no_grad():\n",
    "            y_preds = model(inputs)\n",
    "            loss = criterion(y_preds, labels)\n",
    "        if CFG.gradient_accumulation_steps > 1:\n",
    "            loss = loss / CFG.gradient_accumulation_steps\n",
    "        losses.update(loss.item(), batch_size)\n",
    "        preds.append(y_preds.to('cpu').numpy())\n",
    "        end = time.time()\n",
    "        if step % CFG.print_freq == 0 or step == (len(valid_loader) - 1):\n",
    "            print('EVAL: [{0}/{1}] '\n",
    "                  'Elapsed {remain:s} '\n",
    "                  'Loss: {loss.val:.4f}({loss.avg:.4f}) '.format(\n",
    "                      step,\n",
    "                      len(valid_loader),\n",
    "                      loss=losses,\n",
    "                      remain=timeSince(start,\n",
    "                                       float(step + 1) / len(valid_loader))))\n",
    "    predictions = np.concatenate(preds)\n",
    "    return losses.avg, predictions"
   ]
  },
  {
   "cell_type": "markdown",
   "metadata": {
    "papermill": {
     "duration": 0.007762,
     "end_time": "2022-11-05T11:22:35.068083",
     "exception": false,
     "start_time": "2022-11-05T11:22:35.060321",
     "status": "completed"
    },
    "tags": []
   },
   "source": [
    "# train loop"
   ]
  },
  {
   "cell_type": "code",
   "execution_count": null,
   "metadata": {
    "execution": {
     "iopub.execute_input": "2022-11-05T11:22:35.084710Z",
     "iopub.status.busy": "2022-11-05T11:22:35.084436Z",
     "iopub.status.idle": "2022-11-05T11:22:35.096764Z",
     "shell.execute_reply": "2022-11-05T11:22:35.095935Z"
    },
    "papermill": {
     "duration": 0.023035,
     "end_time": "2022-11-05T11:22:35.098673",
     "exception": false,
     "start_time": "2022-11-05T11:22:35.075638",
     "status": "completed"
    },
    "tags": []
   },
   "outputs": [],
   "source": [
    "def get_optimizer_params(model,\n",
    "                         encoder_lr,\n",
    "                         decoder_lr,\n",
    "                         grouped_decay,\n",
    "                         weight_decay=0.0):\n",
    "    no_decay = [\"bias\", \"LayerNorm.weight\"]\n",
    "    group1 = ['layer.0.', 'layer.1.', 'layer.2.', 'layer.3.']\n",
    "    group2 = ['layer.4.', 'layer.5.', 'layer.6.', 'layer.7.']\n",
    "    group3 = ['layer.8.', 'layer.9.', 'layer.10.', 'layer.11.']\n",
    "    group_all = [\n",
    "        'layer.0.', 'layer.1.', 'layer.2.', 'layer.3.', 'layer.4.', 'layer.5.',\n",
    "        'layer.6.', 'layer.7.', 'layer.8.', 'layer.9.', 'layer.10.',\n",
    "        'layer.11.'\n",
    "    ]\n",
    "    optimizer_grouped_parameters = [\n",
    "        {\n",
    "            'params': [\n",
    "                p for n, p in model.model.named_parameters()\n",
    "                if not any(nd in n\n",
    "                           for nd in no_decay) and not any(nd in n\n",
    "                                                           for nd in group_all)\n",
    "            ],\n",
    "            'weight_decay':\n",
    "            weight_decay\n",
    "        },\n",
    "        {\n",
    "            'params': [\n",
    "                p for n, p in model.model.named_parameters()\n",
    "                if not any(nd in n\n",
    "                           for nd in no_decay) and any(nd in n\n",
    "                                                       for nd in group1)\n",
    "            ],\n",
    "            'weight_decay':\n",
    "            weight_decay,\n",
    "            'lr':\n",
    "            encoder_lr / grouped_decay\n",
    "        },\n",
    "        {\n",
    "            'params': [\n",
    "                p for n, p in model.model.named_parameters()\n",
    "                if not any(nd in n\n",
    "                           for nd in no_decay) and any(nd in n\n",
    "                                                       for nd in group2)\n",
    "            ],\n",
    "            'weight_decay':\n",
    "            weight_decay,\n",
    "            'lr':\n",
    "            encoder_lr\n",
    "        },\n",
    "        {\n",
    "            'params': [\n",
    "                p for n, p in model.model.named_parameters()\n",
    "                if not any(nd in n\n",
    "                           for nd in no_decay) and any(nd in n\n",
    "                                                       for nd in group3)\n",
    "            ],\n",
    "            'weight_decay':\n",
    "            weight_decay,\n",
    "            'lr':\n",
    "            encoder_lr * grouped_decay\n",
    "        },\n",
    "        {\n",
    "            'params': [\n",
    "                p for n, p in model.model.named_parameters()\n",
    "                if any(nd in n\n",
    "                       for nd in no_decay) and not any(nd in n\n",
    "                                                       for nd in group_all)\n",
    "            ],\n",
    "            'weight_decay':\n",
    "            0.0\n",
    "        },\n",
    "        {\n",
    "            'params': [\n",
    "                p for n, p in model.model.named_parameters()\n",
    "                if any(nd in n for nd in no_decay) and any(nd in n\n",
    "                                                           for nd in group1)\n",
    "            ],\n",
    "            'weight_decay':\n",
    "            0.0,\n",
    "            'lr':\n",
    "            encoder_lr / grouped_decay\n",
    "        },\n",
    "        {\n",
    "            'params': [\n",
    "                p for n, p in model.model.named_parameters()\n",
    "                if any(nd in n for nd in no_decay) and any(nd in n\n",
    "                                                           for nd in group2)\n",
    "            ],\n",
    "            'weight_decay':\n",
    "            0.0,\n",
    "            'lr':\n",
    "            encoder_lr\n",
    "        },\n",
    "        {\n",
    "            'params': [\n",
    "                p for n, p in model.model.named_parameters()\n",
    "                if any(nd in n for nd in no_decay) and any(nd in n\n",
    "                                                           for nd in group3)\n",
    "            ],\n",
    "            'weight_decay':\n",
    "            0.0,\n",
    "            'lr':\n",
    "            encoder_lr * grouped_decay\n",
    "        },\n",
    "        {\n",
    "            'params':\n",
    "            [p for n, p in model.named_parameters() if \"model\" not in n],\n",
    "            'lr': decoder_lr * 20,\n",
    "            \"weight_decay\": 0.0\n",
    "        },\n",
    "    ]\n",
    "    return optimizer_grouped_parameters"
   ]
  },
  {
   "cell_type": "code",
   "execution_count": null,
   "metadata": {
    "execution": {
     "iopub.execute_input": "2022-11-05T11:22:35.115757Z",
     "iopub.status.busy": "2022-11-05T11:22:35.115240Z",
     "iopub.status.idle": "2022-11-05T11:22:35.130726Z",
     "shell.execute_reply": "2022-11-05T11:22:35.129898Z"
    },
    "papermill": {
     "duration": 0.026174,
     "end_time": "2022-11-05T11:22:35.132658",
     "exception": false,
     "start_time": "2022-11-05T11:22:35.106484",
     "status": "completed"
    },
    "tags": []
   },
   "outputs": [],
   "source": [
    "# ====================================================\n",
    "# train loop\n",
    "# ====================================================\n",
    "def train_loop(folds, fold):\n",
    "\n",
    "    LOGGER.info(f\"========== fold: {fold} training ==========\")\n",
    "\n",
    "    # ====================================================\n",
    "    # loader\n",
    "    # ====================================================\n",
    "    train_folds = folds[folds['fold'] != fold].reset_index(drop=True)\n",
    "    valid_folds = folds[folds['fold'] == fold].reset_index(drop=True)\n",
    "    valid_labels = valid_folds[CFG.target_cols].values\n",
    "\n",
    "    train_dataset = TrainDataset(CFG, train_folds)\n",
    "    valid_dataset = TrainDataset(CFG, valid_folds)\n",
    "\n",
    "    train_loader = DataLoader(train_dataset,\n",
    "                              batch_size=CFG.batch_size,\n",
    "                              shuffle=True,\n",
    "                              num_workers=CFG.num_workers,\n",
    "                              pin_memory=True,\n",
    "                              drop_last=True)\n",
    "    valid_loader = DataLoader(valid_dataset,\n",
    "                              batch_size=CFG.batch_size * 2,\n",
    "                              shuffle=False,\n",
    "                              num_workers=CFG.num_workers,\n",
    "                              pin_memory=True,\n",
    "                              drop_last=False)\n",
    "\n",
    "    # ====================================================\n",
    "    # model & optimizer\n",
    "    # ====================================================\n",
    "    model = CustomModel(CFG, config_path=None, pretrained=True)\n",
    "    torch.save(model.config, OUTPUT_DIR + 'config.pth')\n",
    "    model.to(device)\n",
    "\n",
    "    optimizer_parameters = get_optimizer_params(\n",
    "        model,\n",
    "        encoder_lr=CFG.encoder_lr,\n",
    "        decoder_lr=CFG.decoder_lr,\n",
    "        grouped_decay=CFG.grouped_decay,\n",
    "        weight_decay=CFG.weight_decay)\n",
    "    optimizer = AdamW(optimizer_parameters,\n",
    "                      lr=CFG.encoder_lr,\n",
    "                      eps=CFG.eps,\n",
    "                      betas=CFG.betas)\n",
    "\n",
    "    # ====================================================\n",
    "    # scheduler\n",
    "    # ====================================================\n",
    "    def get_scheduler(cfg, optimizer, num_train_steps):\n",
    "        if cfg.scheduler == 'linear':\n",
    "            scheduler = get_linear_schedule_with_warmup(\n",
    "                optimizer,\n",
    "                num_warmup_steps=cfg.num_warmup_steps,\n",
    "                num_training_steps=num_train_steps)\n",
    "        elif cfg.scheduler == 'cosine':\n",
    "            scheduler = get_cosine_schedule_with_warmup(\n",
    "                optimizer,\n",
    "                num_warmup_steps=cfg.num_warmup_steps,\n",
    "                num_training_steps=num_train_steps,\n",
    "                num_cycles=cfg.num_cycles)\n",
    "        return scheduler\n",
    "\n",
    "    num_train_steps = int(len(train_folds) / CFG.batch_size * CFG.epochs)\n",
    "    scheduler = get_scheduler(CFG, optimizer, num_train_steps)\n",
    "\n",
    "    # ====================================================\n",
    "    # loop\n",
    "    # ====================================================\n",
    "    criterion = nn.SmoothL1Loss(reduction='mean')  # RMSELoss(reduction=\"mean\")\n",
    "\n",
    "    best_score = np.inf\n",
    "\n",
    "    for epoch in range(CFG.epochs):\n",
    "\n",
    "        start_time = time.time()\n",
    "\n",
    "        # train\n",
    "        avg_loss = train_fn(fold, train_loader, model, criterion, optimizer,\n",
    "                            epoch, scheduler, device)\n",
    "\n",
    "        # eval\n",
    "        avg_val_loss, predictions = valid_fn(valid_loader, model, criterion,\n",
    "                                             device)\n",
    "\n",
    "        # scoring\n",
    "        score, scores = get_score(valid_labels, predictions)\n",
    "\n",
    "        elapsed = time.time() - start_time\n",
    "\n",
    "        LOGGER.info(\n",
    "            f'Epoch {epoch+1} - avg_train_loss: {avg_loss:.4f}  avg_val_loss: {avg_val_loss:.4f}  time: {elapsed:.0f}s'\n",
    "        )\n",
    "        LOGGER.info(f'Epoch {epoch+1} - Score: {score:.4f}  Scores: {scores}')\n",
    "        if CFG.wandb:\n",
    "            wandb.log({\n",
    "                f\"[fold{fold}] epoch\": epoch + 1,\n",
    "                f\"[fold{fold}] avg_train_loss\": avg_loss,\n",
    "                f\"[fold{fold}] avg_val_loss\": avg_val_loss,\n",
    "                f\"[fold{fold}] score\": score\n",
    "            })\n",
    "\n",
    "        if best_score > score:\n",
    "            best_score = score\n",
    "            LOGGER.info(\n",
    "                f'Epoch {epoch+1} - Save Best Score: {best_score:.4f} Model')\n",
    "            torch.save(\n",
    "                {\n",
    "                    'model': model.state_dict(),\n",
    "                    'predictions': predictions\n",
    "                }, OUTPUT_DIR +\n",
    "                f\"{CFG.model.replace('/', '-')}_fold{fold}_best.pth\")\n",
    "\n",
    "    predictions = torch.load(\n",
    "        OUTPUT_DIR + f\"{CFG.model.replace('/', '-')}_fold{fold}_best.pth\",\n",
    "        map_location=torch.device('cpu'))['predictions']\n",
    "    valid_folds[[f\"pred_{c}\" for c in CFG.target_cols]] = predictions\n",
    "\n",
    "    torch.cuda.empty_cache()\n",
    "    gc.collect()\n",
    "\n",
    "    return valid_folds"
   ]
  },
  {
   "cell_type": "code",
   "execution_count": null,
   "metadata": {
    "execution": {
     "iopub.execute_input": "2022-11-05T11:22:35.149783Z",
     "iopub.status.busy": "2022-11-05T11:22:35.149534Z",
     "iopub.status.idle": "2022-11-05T20:36:28.941167Z",
     "shell.execute_reply": "2022-11-05T20:36:28.940073Z"
    },
    "papermill": {
     "duration": 33233.870676,
     "end_time": "2022-11-05T20:36:29.010962",
     "exception": false,
     "start_time": "2022-11-05T11:22:35.140286",
     "status": "completed"
    },
    "tags": []
   },
   "outputs": [],
   "source": [
    "if __name__ == '__main__':\n",
    "\n",
    "    def get_result(oof_df):\n",
    "        labels = oof_df[CFG.target_cols].values\n",
    "        preds = oof_df[[f\"pred_{c}\" for c in CFG.target_cols]].values\n",
    "        score, scores = get_score(labels, preds)\n",
    "        LOGGER.info(f'Score: {score:<.4f}  Scores: {scores}')\n",
    "\n",
    "    if CFG.train:\n",
    "        oof_df = pd.DataFrame()\n",
    "        for fold in range(CFG.n_fold):\n",
    "            if fold in CFG.trn_fold:\n",
    "                _oof_df = train_loop(train, fold)\n",
    "                oof_df = pd.concat([oof_df, _oof_df])\n",
    "                LOGGER.info(f\"========== fold: {fold} result ==========\")\n",
    "                get_result(_oof_df)\n",
    "        oof_df = oof_df.reset_index(drop=True)\n",
    "        LOGGER.info(f\"========== CV ==========\")\n",
    "        get_result(oof_df)\n",
    "        oof_df.to_pickle(OUTPUT_DIR + 'oof_df.pkl')\n",
    "\n",
    "    if CFG.wandb:\n",
    "        wandb.finish()"
   ]
  }
 ],
 "metadata": {
  "kernelspec": {
   "display_name": "Python 3 (ipykernel)",
   "language": "python",
   "name": "python3"
  },
  "language_info": {
   "codemirror_mode": {
    "name": "ipython",
    "version": 3
   },
   "file_extension": ".py",
   "mimetype": "text/x-python",
   "name": "python",
   "nbconvert_exporter": "python",
   "pygments_lexer": "ipython3",
   "version": "3.9.7"
  },
  "varInspector": {
   "cols": {
    "lenName": 16,
    "lenType": 16,
    "lenVar": 40
   },
   "kernels_config": {
    "python": {
     "delete_cmd_postfix": "",
     "delete_cmd_prefix": "del ",
     "library": "var_list.py",
     "varRefreshCmd": "print(var_dic_list())"
    },
    "r": {
     "delete_cmd_postfix": ") ",
     "delete_cmd_prefix": "rm(",
     "library": "var_list.r",
     "varRefreshCmd": "cat(var_dic_list()) "
    }
   },
   "types_to_exclude": [
    "module",
    "function",
    "builtin_function_or_method",
    "instance",
    "_Feature"
   ],
   "window_display": false
  }
 },
 "nbformat": 4,
 "nbformat_minor": 4
}
